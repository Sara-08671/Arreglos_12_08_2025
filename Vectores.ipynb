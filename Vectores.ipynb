{
  "nbformat": 4,
  "nbformat_minor": 0,
  "metadata": {
    "colab": {
      "provenance": [],
      "authorship_tag": "ABX9TyNdmhmYAhgzJn5oBY5qTJ0T",
      "include_colab_link": true
    },
    "kernelspec": {
      "name": "python3",
      "display_name": "Python 3"
    },
    "language_info": {
      "name": "python"
    }
  },
  "cells": [
    {
      "cell_type": "markdown",
      "metadata": {
        "id": "view-in-github",
        "colab_type": "text"
      },
      "source": [
        "<a href=\"https://colab.research.google.com/github/Sara-08671/Arreglos_12_08_2025/blob/main/Vectores.ipynb\" target=\"_parent\"><img src=\"https://colab.research.google.com/assets/colab-badge.svg\" alt=\"Open In Colab\"/></a>"
      ]
    },
    {
      "cell_type": "markdown",
      "source": [
        "Los vectores son reserva de memoria para almacenar información, solo puede ser de un tipo, si es númerico, es númerico, si es texto, debe continuar siendo text, estp aplica para las matrices. Los arreglos son identificadores son esatticos, esto significa que es otra forma de definir, variables y constantes."
      ],
      "metadata": {
        "id": "5E46I7UcU9TO"
      }
    },
    {
      "cell_type": "code",
      "source": [
        "#Suma de vectores\n",
        "import numpy as np\n",
        "vector1 = np.array([1, 2, 3])\n",
        "vector2 = np.array([4, 5, 6])\n",
        "suma = vector1 + vector2\n",
        "print(\"Suma de vectores:\", suma)\n",
        "\n",
        "#multiplicación de vectores\n",
        "producto = vector1 * vector2 #Multiplicación de vectores\n",
        "print(\"Producto de vectores:\", producto)#Imprimir multiplicación\n",
        "\n",
        "#División de vectores\n",
        "división = vector1 / vector2 #División de vectores\n",
        "print(\"División de vectores:\", división) #Imprimir division\n",
        "\n",
        "#Resta de vectores\n",
        "resta = vector1 - vector2 #resta de vectores\n",
        "print(\"Resta de vectores: \", resta)#Imprimir resta\n",
        "\n",
        "#Potencia de vectores\n",
        "potencia = vector1 **2 #Potencia de vectores\n",
        "print(\"Potencia de vectores: \", potencia)#Imprimir potencia"
      ],
      "metadata": {
        "colab": {
          "base_uri": "https://localhost:8080/"
        },
        "id": "K9YxaMPqrJxi",
        "outputId": "da04f3e3-3f92-4bb5-fe4f-cf5c81792f8c"
      },
      "execution_count": 1,
      "outputs": [
        {
          "output_type": "stream",
          "name": "stdout",
          "text": [
            "Suma de vectores: [5 7 9]\n",
            "Producto de vectores: [ 4 10 18]\n",
            "División de vectores: [0.25 0.4  0.5 ]\n",
            "Resta de vectores:  [-3 -3 -3]\n",
            "Potencia de vectores:  [1 4 9]\n"
          ]
        }
      ]
    },
    {
      "cell_type": "code",
      "source": [
        "import numpy as np\n",
        "\n",
        "vector = np.array([1, 2, 3, 4, 5])\n",
        "print(vector)\n",
        "# quiero imprimir el tercer elemento del vector (indice 2)\n",
        "\"\"\"\n",
        "Los vectores no son como las listas, no tienen un método append()\n",
        "para agregar elementos y no tienen un método pop() para eliminar\n",
        "elemntos, pero si tienen método reshape() para cambiar su forma,\n",
        "adicionalmente despues de creado no se puede cambiar el tamaño del vector\n",
        "\"\"\"\n",
        "vector1 =np.zeros(5)# Creamos un vector de 5 ceros\n",
        "print(vector1)\n",
        "vector2 =np.ones(5)\n",
        "print(vector2)\n",
        "vector3 = np.random(1, 5, 100)\n",
        "print(vector3)\n",
        "vector4 = np.linspace(1, 10, 5)\n",
        "print(\"linspace\", vector4)\n",
        "vector5 = np.random.rand(10)\n",
        "print(vector5)\n",
        "vector6 = np.random.randint(1, 10, 10)\n",
        "print(vector6)"
      ],
      "metadata": {
        "colab": {
          "base_uri": "https://localhost:8080/",
          "height": 263
        },
        "id": "AffhVo7UVvKi",
        "outputId": "90d3b776-f101-4a10-8a1d-8011e2cf9f9f"
      },
      "execution_count": 2,
      "outputs": [
        {
          "output_type": "stream",
          "name": "stdout",
          "text": [
            "[1 2 3 4 5]\n",
            "[0. 0. 0. 0. 0.]\n",
            "[1. 1. 1. 1. 1.]\n"
          ]
        },
        {
          "output_type": "error",
          "ename": "TypeError",
          "evalue": "'module' object is not callable",
          "traceback": [
            "\u001b[0;31m---------------------------------------------------------------------------\u001b[0m",
            "\u001b[0;31mTypeError\u001b[0m                                 Traceback (most recent call last)",
            "\u001b[0;32m/tmp/ipython-input-2957607106.py\u001b[0m in \u001b[0;36m<cell line: 0>\u001b[0;34m()\u001b[0m\n\u001b[1;32m     14\u001b[0m \u001b[0mvector2\u001b[0m \u001b[0;34m=\u001b[0m\u001b[0mnp\u001b[0m\u001b[0;34m.\u001b[0m\u001b[0mones\u001b[0m\u001b[0;34m(\u001b[0m\u001b[0;36m5\u001b[0m\u001b[0;34m)\u001b[0m\u001b[0;34m\u001b[0m\u001b[0;34m\u001b[0m\u001b[0m\n\u001b[1;32m     15\u001b[0m \u001b[0mprint\u001b[0m\u001b[0;34m(\u001b[0m\u001b[0mvector2\u001b[0m\u001b[0;34m)\u001b[0m\u001b[0;34m\u001b[0m\u001b[0;34m\u001b[0m\u001b[0m\n\u001b[0;32m---> 16\u001b[0;31m \u001b[0mvector3\u001b[0m \u001b[0;34m=\u001b[0m \u001b[0mnp\u001b[0m\u001b[0;34m.\u001b[0m\u001b[0mrandom\u001b[0m\u001b[0;34m(\u001b[0m\u001b[0;36m1\u001b[0m\u001b[0;34m,\u001b[0m \u001b[0;36m5\u001b[0m\u001b[0;34m,\u001b[0m \u001b[0;36m100\u001b[0m\u001b[0;34m)\u001b[0m\u001b[0;34m\u001b[0m\u001b[0;34m\u001b[0m\u001b[0m\n\u001b[0m\u001b[1;32m     17\u001b[0m \u001b[0mprint\u001b[0m\u001b[0;34m(\u001b[0m\u001b[0mvector3\u001b[0m\u001b[0;34m)\u001b[0m\u001b[0;34m\u001b[0m\u001b[0;34m\u001b[0m\u001b[0m\n\u001b[1;32m     18\u001b[0m \u001b[0mvector4\u001b[0m \u001b[0;34m=\u001b[0m \u001b[0mnp\u001b[0m\u001b[0;34m.\u001b[0m\u001b[0mlinspace\u001b[0m\u001b[0;34m(\u001b[0m\u001b[0;36m1\u001b[0m\u001b[0;34m,\u001b[0m \u001b[0;36m10\u001b[0m\u001b[0;34m,\u001b[0m \u001b[0;36m5\u001b[0m\u001b[0;34m)\u001b[0m\u001b[0;34m\u001b[0m\u001b[0;34m\u001b[0m\u001b[0m\n",
            "\u001b[0;31mTypeError\u001b[0m: 'module' object is not callable"
          ]
        }
      ]
    }
  ]
}